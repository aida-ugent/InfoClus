{
 "cells": [
  {
   "cell_type": "code",
   "execution_count": 2,
   "metadata": {},
   "outputs": [
    {
     "name": "stdout",
     "output_type": "stream",
     "text": [
      "adata file is saved at ..\\data\\german_socio_eco\\german_socio_eco.h5ad\n",
      "initialization done\n"
     ]
    }
   ],
   "source": [
    "import os\n",
    "from infoclus import InfoClus\n",
    "\n",
    "\n",
    "RELATIVE_DATA_PATH = os.path.join(os.path.pardir, 'data')\n",
    "DATA_SET_NAME = 'german_socio_eco'\n",
    "\n",
    "infoclus = InfoClus(DATA_SET_NAME, RELATIVE_DATA_PATH)"
   ]
  },
  {
   "cell_type": "code",
   "execution_count": 7,
   "metadata": {},
   "outputs": [
    {
     "data": {
      "text/plain": [
       "'single'"
      ]
     },
     "execution_count": 7,
     "metadata": {},
     "output_type": "execute_result"
    }
   ],
   "source": [
    "infoclus.model.linkage"
   ]
  },
  {
   "cell_type": "code",
   "execution_count": 1,
   "metadata": {},
   "outputs": [
    {
     "data": {
      "text/plain": [
       "'..'"
      ]
     },
     "execution_count": 1,
     "metadata": {},
     "output_type": "execute_result"
    }
   ],
   "source": [
    "import os\n",
    "os.path.pardir"
   ]
  },
  {
   "cell_type": "code",
   "execution_count": null,
   "metadata": {},
   "outputs": [],
   "source": [
    "import os\n",
    "\n",
    "from adata_utils import generate_adata\n",
    "\n",
    "RELATIVE_DATA_PATH = os.path.join(os.path.pardir, 'data')       # relative path to the data folder \n",
    "# data (folder) - dataset (folder) - dataset.csv\n",
    "DATA_SET_NAME = 'german_socio_eco'\n",
    "\n",
    "generate_adata(RELATIVE_DATA_PATH, DATA_SET_NAME)  # generate the AnnData object\n"
   ]
  },
  {
   "cell_type": "code",
   "execution_count": null,
   "metadata": {},
   "outputs": [],
   "source": [
    "from sklearn.cluster import AgglomerativeClustering\n",
    "import anndata as ad\n",
    "import os\n",
    "\n",
    "RELATIVE_DATA_PATH = os.path.join(os.path.pardir, 'data')\n",
    "DATA_SET_NAME = 'german_socio_eco'\n",
    "\n",
    "adata = ad.read_h5ad(os.path.join(RELATIVE_DATA_PATH, DATA_SET_NAME, f'{DATA_SET_NAME}.h5ad'))\n",
    "embedding = adata.obsm['tSNE_1']\n",
    "\n",
    "model = AgglomerativeClustering(linkage='single', distance_threshold=0, n_clusters=None)\n",
    "model.fit(embedding)\n",
    "\n",
    "print(model.labels_)"
   ]
  }
 ],
 "metadata": {
  "kernelspec": {
   "display_name": "ExClus",
   "language": "python",
   "name": "python3"
  },
  "language_info": {
   "codemirror_mode": {
    "name": "ipython",
    "version": 3
   },
   "file_extension": ".py",
   "mimetype": "text/x-python",
   "name": "python",
   "nbconvert_exporter": "python",
   "pygments_lexer": "ipython3",
   "version": "3.12.3"
  }
 },
 "nbformat": 4,
 "nbformat_minor": 2
}
