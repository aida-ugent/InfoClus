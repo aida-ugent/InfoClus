{
 "cells": [
  {
   "cell_type": "markdown",
   "metadata": {},
   "source": [
    "# todo: import 3 datasets, generate 3 adata"
   ]
  },
  {
   "cell_type": "markdown",
   "metadata": {},
   "source": [
    "import dataset by relative path style"
   ]
  },
  {
   "cell_type": "code",
   "execution_count": null,
   "metadata": {},
   "outputs": [
    {
     "data": {
      "text/plain": [
       "array([[-1.47408022,  0.9108166 ,  0.07235934, ...,  2.23434403,\n",
       "         1.42482908,  1.34651328],\n",
       "       [-1.51595408,  1.21849454, -0.38148061, ...,  1.09158023,\n",
       "         0.8364595 ,  0.23850783],\n",
       "       [-1.20887909,  1.29541403, -0.04866465, ...,  0.36397781,\n",
       "         1.22870589,  1.55613593],\n",
       "       ...,\n",
       "       [-0.56681321, -0.75064427, -1.16813652, ..., -0.32724449,\n",
       "         0.50024832,  0.23850783],\n",
       "       [-0.31557003, -0.90448324, -0.83532056, ..., -0.52198513,\n",
       "         0.9765475 ,  0.68769923],\n",
       "       [-0.37140185, -0.81217986, -1.16813652, ..., -0.48774502,\n",
       "         2.20932185,  1.40640547]])"
      ]
     },
     "execution_count": 16,
     "metadata": {},
     "output_type": "execute_result"
    }
   ],
   "source": [
    "import pandas as pd\n",
    "import os\n",
    "\n",
    "from sklearn.discriminant_analysis import StandardScaler\n",
    "\n",
    "RELATIVE_DATA_PATH = os.path.join(os.path.pardir, 'data')\n",
    "\n",
    "DATA_SET_NAME = 'german_socio_eco'\n",
    "\n",
    "# Load data\n",
    "data_path = os.path.join(RELATIVE_DATA_PATH, DATA_SET_NAME, f'{DATA_SET_NAME}.csv')\n",
    "df_data = pd.read_csv(data_path)\n",
    "scaler = StandardScaler()\n",
    "df_scaled = scaler.fit_transform(df_data)\n",
    "# todo: write X, layers\n",
    "# todo: write var - variable names\n",
    "# todo: write variable types - categorical, numeric into adata.var/varm depends on the type var/varm, try being consistent with Edith's version\n",
    "# todo: compute embeddings\n",
    "# todo: write obsm - embeddings"
   ]
  },
  {
   "cell_type": "markdown",
   "metadata": {},
   "source": [
    "TODO: generate adata"
   ]
  },
  {
   "cell_type": "code",
   "execution_count": 17,
   "metadata": {},
   "outputs": [],
   "source": [
    "from sklearn.discriminant_analysis import StandardScaler\n",
    "\n",
    "\n",
    "def generate_adata(dataset_name):\n",
    "    '''\n",
    "    Data preprocessing: given dataset name, generating adata file contain versions of dataset, feature types and embeddings\n",
    "    :param DATA_SET_NAME:\n",
    "    :return:\n",
    "    '''\n",
    "    data_path = os.path.join(RELATIVE_DATA_PATH, dataset_name, f'{dataset_name}.csv')\n",
    "    df_data = pd.read_csv(data_path)\n",
    "    # scaler fit transform df_data\n",
    "    scaler = StandardScaler()\n",
    "    hd_data = scaler.fit_transform(df_data)\n",
    "    adata = ad.AnnData(X=hd_data)"
   ]
  }
 ],
 "metadata": {
  "kernelspec": {
   "display_name": "ExClus",
   "language": "python",
   "name": "python3"
  },
  "language_info": {
   "codemirror_mode": {
    "name": "ipython",
    "version": 3
   },
   "file_extension": ".py",
   "mimetype": "text/x-python",
   "name": "python",
   "nbconvert_exporter": "python",
   "pygments_lexer": "ipython3",
   "version": "3.12.3"
  }
 },
 "nbformat": 4,
 "nbformat_minor": 2
}
