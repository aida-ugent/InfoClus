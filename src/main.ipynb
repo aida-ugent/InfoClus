{
 "cells": [
  {
   "cell_type": "code",
   "execution_count": 1,
   "metadata": {},
   "outputs": [
    {
     "name": "stdout",
     "output_type": "stream",
     "text": [
      "Computing affinities with perplexity 30...\n",
      "===> Finding 90 nearest neighbors using Annoy approximate search using euclidean distance...\n",
      "   --> Time elapsed: 0.07 seconds\n",
      "===> Calculating affinity matrix...\n",
      "   --> Time elapsed: 0.02 seconds\n",
      "===> Running optimization with exaggeration=10.00, lr=41.20 for 200 iterations...\n",
      "Iteration   50, KL divergence 2.0708, 50 iterations in 0.2661 sec\n",
      "Iteration  100, KL divergence 2.0925, 50 iterations in 0.2379 sec\n",
      "Iteration  150, KL divergence 2.0929, 50 iterations in 0.2503 sec\n",
      "Iteration  200, KL divergence 2.0929, 50 iterations in 0.2643 sec\n",
      "   --> Time elapsed: 1.02 seconds\n",
      "===> Running optimization with exaggeration=5.00, lr=82.40 for 200 iterations...\n",
      "Iteration   50, KL divergence 1.7832, 50 iterations in 0.2640 sec\n",
      "Iteration  100, KL divergence 1.7655, 50 iterations in 0.3477 sec\n",
      "Iteration  150, KL divergence 1.7652, 50 iterations in 0.3048 sec\n",
      "Iteration  200, KL divergence 1.7652, 50 iterations in 0.2899 sec\n",
      "   --> Time elapsed: 1.21 seconds\n",
      "===> Running optimization with exaggeration=3.00, lr=137.33 for 200 iterations...\n",
      "Iteration   50, KL divergence 1.4245, 50 iterations in 0.3051 sec\n",
      "Iteration  100, KL divergence 1.4273, 50 iterations in 0.3041 sec\n",
      "Iteration  150, KL divergence 1.4272, 50 iterations in 0.3170 sec\n",
      "Iteration  200, KL divergence 1.4272, 50 iterations in 0.2964 sec\n",
      "   --> Time elapsed: 1.22 seconds\n",
      "===> Running optimization with exaggeration=1.00, lr=412.00 for 200 iterations...\n",
      "Iteration   50, KL divergence 0.6664, 50 iterations in 0.2830 sec\n",
      "Iteration  100, KL divergence 0.6474, 50 iterations in 0.2813 sec\n",
      "Iteration  150, KL divergence 0.6423, 50 iterations in 0.2832 sec\n",
      "Iteration  200, KL divergence 0.6405, 50 iterations in 0.3108 sec\n",
      "   --> Time elapsed: 1.16 seconds\n",
      "Done. (7.74s)\n",
      "adata file is saved at ..\\data\\german_socio_eco\\german_socio_eco.h5ad\n"
     ]
    }
   ],
   "source": [
    "import os\n",
    "\n",
    "from adata_utils import generate_adata\n",
    "\n",
    "RELATIVE_DATA_PATH = os.path.join(os.path.pardir, 'data')       # relative path to the data folder \n",
    "# data (folder) - dataset (folder) - dataset.csv\n",
    "DATA_SET_NAME = 'german_socio_eco'\n",
    "\n",
    "generate_adata(RELATIVE_DATA_PATH, DATA_SET_NAME)  # generate the AnnData object\n"
   ]
  },
  {
   "cell_type": "markdown",
   "metadata": {},
   "source": [
    "After generating adata, call InfoClus function, which need to be written based on si.py\n",
    "1. initialization seperated from optimization/computation\n",
    "2. clear the code"
   ]
  },
  {
   "cell_type": "code",
   "execution_count": null,
   "metadata": {},
   "outputs": [],
   "source": [
    "from sklearn.cluster import AgglomerativeClustering\n",
    "import anndata as ad\n",
    "import os\n",
    "\n",
    "RELATIVE_DATA_PATH = os.path.join(os.path.pardir, 'data')\n",
    "DATA_SET_NAME = 'german_socio_eco'\n",
    "\n",
    "adata = ad.read_h5ad(os.path.join(RELATIVE_DATA_PATH, DATA_SET_NAME, f'{DATA_SET_NAME}.h5ad'))\n",
    "embedding = adata.obsm['tSNE_1']\n",
    "\n",
    "model = AgglomerativeClustering(linkage='single', distance_threshold=0, n_clusters=None)\n",
    "model.fit(embedding)\n",
    "\n",
    "print(model.labels_)"
   ]
  }
 ],
 "metadata": {
  "kernelspec": {
   "display_name": "ExClus",
   "language": "python",
   "name": "python3"
  },
  "language_info": {
   "codemirror_mode": {
    "name": "ipython",
    "version": 3
   },
   "file_extension": ".py",
   "mimetype": "text/x-python",
   "name": "python",
   "nbconvert_exporter": "python",
   "pygments_lexer": "ipython3",
   "version": "3.12.3"
  }
 },
 "nbformat": 4,
 "nbformat_minor": 2
}
