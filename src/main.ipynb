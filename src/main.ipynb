{
 "cells": [
  {
   "cell_type": "markdown",
   "metadata": {},
   "source": [
    "# todo: import 3 datasets, generate 3 adata"
   ]
  },
  {
   "cell_type": "markdown",
   "metadata": {},
   "source": [
    "import dataset by relative path style"
   ]
  },
  {
   "cell_type": "code",
   "execution_count": null,
   "metadata": {},
   "outputs": [
    {
     "ename": "ModuleNotFoundError",
     "evalue": "No module named 'openTSNE'",
     "output_type": "error",
     "traceback": [
      "\u001b[1;31m---------------------------------------------------------------------------\u001b[0m",
      "\u001b[1;31mModuleNotFoundError\u001b[0m                       Traceback (most recent call last)",
      "Cell \u001b[1;32mIn[1], line 8\u001b[0m\n\u001b[0;32m      6\u001b[0m \u001b[38;5;28;01mfrom\u001b[39;00m \u001b[38;5;21;01msklearn\u001b[39;00m\u001b[38;5;21;01m.\u001b[39;00m\u001b[38;5;21;01mdiscriminant_analysis\u001b[39;00m \u001b[38;5;28;01mimport\u001b[39;00m StandardScaler\n\u001b[0;32m      7\u001b[0m \u001b[38;5;28;01mfrom\u001b[39;00m \u001b[38;5;21;01msklearn\u001b[39;00m\u001b[38;5;21;01m.\u001b[39;00m\u001b[38;5;21;01mmanifold\u001b[39;00m \u001b[38;5;28;01mimport\u001b[39;00m TSNE\n\u001b[1;32m----> 8\u001b[0m \u001b[38;5;28;01mfrom\u001b[39;00m \u001b[38;5;21;01mtsne\u001b[39;00m \u001b[38;5;28;01mimport\u001b[39;00m compute_tsne_series\n\u001b[0;32m      9\u001b[0m \u001b[38;5;66;03m# from umap import UMAP\u001b[39;00m\n\u001b[0;32m     11\u001b[0m RELATIVE_DATA_PATH \u001b[38;5;241m=\u001b[39m os\u001b[38;5;241m.\u001b[39mpath\u001b[38;5;241m.\u001b[39mjoin(os\u001b[38;5;241m.\u001b[39mpath\u001b[38;5;241m.\u001b[39mpardir, \u001b[38;5;124m'\u001b[39m\u001b[38;5;124mdata\u001b[39m\u001b[38;5;124m'\u001b[39m)\n",
      "File \u001b[1;32mc:\\Users\\Administrator\\OneDrive - UGent\\Documents\\GitHub\\ExClus\\src\\tsne.py:1\u001b[0m\n\u001b[1;32m----> 1\u001b[0m \u001b[38;5;28;01mimport\u001b[39;00m \u001b[38;5;21;01mopenTSNE\u001b[39;00m\n\u001b[0;32m      2\u001b[0m \u001b[38;5;28;01mimport\u001b[39;00m \u001b[38;5;21;01mnumpy\u001b[39;00m \u001b[38;5;28;01mas\u001b[39;00m \u001b[38;5;21;01mnp\u001b[39;00m\n\u001b[0;32m      3\u001b[0m \u001b[38;5;28;01mimport\u001b[39;00m \u001b[38;5;21;01mos\u001b[39;00m\n",
      "\u001b[1;31mModuleNotFoundError\u001b[0m: No module named 'openTSNE'"
     ]
    }
   ],
   "source": [
    "import pandas as pd\n",
    "import os\n",
    "import anndata as ad\n",
    "\n",
    "from sklearn.decomposition import PCA\n",
    "from sklearn.discriminant_analysis import StandardScaler\n",
    "from sklearn.manifold import TSNE\n",
    "from tsne import compute_tsne_series\n",
    "# from umap import UMAP\n",
    "\n",
    "RELATIVE_DATA_PATH = os.path.join(os.path.pardir, 'data')\n",
    "\n",
    "DATA_SET_NAME = 'german_socio_eco'\n",
    "\n",
    "# Load data\n",
    "data_path = os.path.join(RELATIVE_DATA_PATH, DATA_SET_NAME, f'{DATA_SET_NAME}.csv')\n",
    "df_data = pd.read_csv(data_path)\n",
    "scaler = StandardScaler()\n",
    "data_scaled = scaler.fit_transform(df_data)\n",
    "adata = ad.AnnData(X = data_scaled)\n",
    "adata.layers['raw'] = df_data.values\n",
    "adata.layers['scaled'] = data_scaled\n",
    "adata.var_names = df_data.columns.astype(str)\n",
    "# todo: tweak the below to be compatible with all data sets\n",
    "adata.var['var_type'] = 'numeric'\n",
    "# compute tsne embeddings of data_scaled\n",
    "tsne = TSNE(n_components=2)\n",
    "adata.obsm['tsne'] = tsne.fit_transform(data_scaled)\n",
    "pca = PCA(n_components=2)\n",
    "adata.obsm['pca'] = pca.fit_transform(data_scaled)\n",
    "# todo: fix umap to work successfully\n",
    "# umap = UMAP(n_components=2)\n",
    "# adata.obsm['umap'] = umap.fit_transform(data_scaled)\n",
    "tsne_embs = compute_tsne_series(\n",
    "                data = data_scaled,\n",
    "                fine_exag_iter=[(10, 200), (5, 200), (3, 200), (1, 200)],\n",
    "                hd_metric= \"euclidean\",\n",
    "                init= adata.obsm['pca'],\n",
    "                sampling_frac=1, # no need to subsample for this small dataset\n",
    "                smoothing_perplexity=30,\n",
    "                random_state=42\n",
    ")\n",
    "for exag, emb in tsne_embs.items():\n",
    "    adata.obsm[f\"tSNE_{exag}\"] = emb\n",
    "adata.write(os.path.join(RELATIVE_DATA_PATH, DATA_SET_NAME, f'{DATA_SET_NAME}.h5ad'))\n"
   ]
  },
  {
   "cell_type": "code",
   "execution_count": null,
   "metadata": {},
   "outputs": [],
   "source": [
    "from sklearn.discriminant_analysis import StandardScaler\n",
    "\n",
    "\n",
    "def generate_adata(dataset_name):\n",
    "    '''\n",
    "    Data preprocessing: given dataset name, generating adata file contain versions of dataset, feature types and embeddings\n",
    "    :param DATA_SET_NAME:\n",
    "    :return:\n",
    "    '''\n",
    "    data_path = os.path.join(RELATIVE_DATA_PATH, dataset_name, f'{dataset_name}.csv')\n",
    "    df_data = pd.read_csv(data_path)\n",
    "    # scaler fit transform df_data\n",
    "    scaler = StandardScaler()\n",
    "    hd_data = scaler.fit_transform(df_data)\n",
    "    adata = ad.AnnData(X=hd_data)"
   ]
  }
 ],
 "metadata": {
  "kernelspec": {
   "display_name": "ExClus",
   "language": "python",
   "name": "python3"
  },
  "language_info": {
   "codemirror_mode": {
    "name": "ipython",
    "version": 3
   },
   "file_extension": ".py",
   "mimetype": "text/x-python",
   "name": "python",
   "nbconvert_exporter": "python",
   "pygments_lexer": "ipython3",
   "version": "3.12.3"
  }
 },
 "nbformat": 4,
 "nbformat_minor": 2
}
