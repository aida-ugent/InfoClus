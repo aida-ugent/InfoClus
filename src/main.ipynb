{
 "cells": [
  {
   "cell_type": "code",
   "execution_count": null,
   "metadata": {},
   "outputs": [],
   "source": [
    "import os\n",
    "\n",
    "from adata_utils import generate_adata\n",
    "\n",
    "\n",
    "RELATIVE_DATA_PATH = os.path.join(os.path.pardir, 'data')\n",
    "\n",
    "# data (folder) - dataset (folder) - dataset.csv\n",
    "DATA_SET_NAME = 'german_socio_eco'\n",
    "\n",
    "adata = generate_adata(RELATIVE_DATA_PATH, DATA_SET_NAME)\n"
   ]
  },
  {
   "cell_type": "markdown",
   "metadata": {},
   "source": [
    "After generating adata, call InfoClus function, which need to be written based on si.py\n",
    "1. initialization seperated from optimization/computation\n",
    "2. clear the code"
   ]
  },
  {
   "cell_type": "code",
   "execution_count": null,
   "metadata": {},
   "outputs": [],
   "source": [
    "# initialize infoclus object\n",
    "from infoclus import InfoClus"
   ]
  }
 ],
 "metadata": {
  "kernelspec": {
   "display_name": "ExClus",
   "language": "python",
   "name": "python3"
  },
  "language_info": {
   "codemirror_mode": {
    "name": "ipython",
    "version": 3
   },
   "file_extension": ".py",
   "mimetype": "text/x-python",
   "name": "python",
   "nbconvert_exporter": "python",
   "pygments_lexer": "ipython3",
   "version": "3.12.3"
  }
 },
 "nbformat": 4,
 "nbformat_minor": 2
}
